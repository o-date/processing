{
 "cells": [
  {
   "cell_type": "code",
   "execution_count": 10,
   "metadata": {},
   "outputs": [],
   "source": [
    "from IPython.display import HTML"
   ]
  },
  {
   "cell_type": "code",
   "execution_count": 11,
   "metadata": {},
   "outputs": [],
   "source": [
    "processing_code = \"\"\" \n",
    "int i = 0;\n",
    "void setup() {\n",
    " size(400, 400);\n",
    " stroke(0,0,0,100);\n",
    " colorMode(HSB);\n",
    "}\n",
    "void draw() {\n",
    " i++;\n",
    " fill(255 * sin(i / 240.0) * sin(i / 240.0), 200, 175, 50);\n",
    " ellipse(mouseX, mouseY, 50, 50);\n",
    "}\n",
    "\"\"\""
   ]
  },
  {
   "cell_type": "code",
   "execution_count": 27,
   "metadata": {},
   "outputs": [],
   "source": [
    "html_template = \"\"\"\n",
    "<script type=\"text/javascript\" src=\"processing.min.js\"></script> \n",
    "<script type=\"text/javascript\">\n",
    "  var processingCode = `{}`;\n",
    "  var myCanvas = document.getElementById(\"canvas1\");\n",
    "  var jsCode = Processing.compile(processingCode);\n",
    "  var processingInstance = new Processing(myCanvas, jsCode);\n",
    " </script>\n",
    "<canvas id=\"canvas1\"> </canvas>    \n",
    "\"\"\""
   ]
  },
  {
   "cell_type": "code",
   "execution_count": 26,
   "metadata": {
    "scrolled": true
   },
   "outputs": [
    {
     "data": {
      "text/html": [
       "\n",
       "<script type=\"text/javascript\" src=\"https://raw.githubusercontent.com/processing-js/processing-js/v1.4.8/processing.min.js\"></script> \n",
       "<script type=\"text/javascript\">\n",
       "  var processingCode = ` \n",
       "int i = 0;\n",
       "void setup() {\n",
       " size(400, 400);\n",
       " stroke(0,0,0,100);\n",
       " colorMode(HSB);\n",
       "}\n",
       "void draw() {\n",
       " i++;\n",
       " fill(255 * sin(i / 240.0) * sin(i / 240.0), 200, 175, 50);\n",
       " ellipse(mouseX, mouseY, 50, 50);\n",
       "}\n",
       "`;\n",
       "  var myCanvas = document.getElementById(\"canvas1\");\n",
       "  var jsCode = Processing.compile(processingCode);\n",
       "  var processingInstance = new Processing(myCanvas, jsCode);\n",
       " </script>\n",
       "<canvas id=\"canvas1\"> </canvas>    \n"
      ],
      "text/plain": [
       "<IPython.core.display.HTML object>"
      ]
     },
     "execution_count": 26,
     "metadata": {},
     "output_type": "execute_result"
    }
   ],
   "source": [
    "html_code = html_template.format(processing_code)\n",
    "HTML(html_code)\n"
   ]
  },
  {
   "cell_type": "code",
   "execution_count": null,
   "metadata": {},
   "outputs": [],
   "source": [
    "print(html_code)\n",
    "\n",
    "# f = open( 'process.html', 'w' )\n",
    "# f.write(html_code)\n",
    "# f.close()"
   ]
  }
 ],
 "metadata": {
  "kernelspec": {
   "display_name": "Python 3",
   "language": "python",
   "name": "python3"
  },
  "language_info": {
   "codemirror_mode": {
    "name": "ipython",
    "version": 3
   },
   "file_extension": ".py",
   "mimetype": "text/x-python",
   "name": "python",
   "nbconvert_exporter": "python",
   "pygments_lexer": "ipython3",
   "version": "3.6.5"
  }
 },
 "nbformat": 4,
 "nbformat_minor": 2
}
