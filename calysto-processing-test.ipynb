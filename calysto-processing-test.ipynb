{
 "cells": [
  {
   "cell_type": "code",
   "execution_count": 4,
   "metadata": {},
   "outputs": [
    {
     "name": "stdout",
     "output_type": "stream",
     "text": [
      "Created file '/home/jovyan/test.csv'.\n"
     ]
    }
   ],
   "source": [
    "%%file test.csv\n",
    "\"State\",\"Population\"\n",
    "TX,4708708\n",
    "AL,698473\n",
    "AZ,6595778\n",
    "TX,6595779"
   ]
  },
  {
   "cell_type": "code",
   "execution_count": 5,
   "metadata": {},
   "outputs": [
    {
     "name": "stderr",
     "output_type": "stream",
     "text": [
      "\u001b[0;31mUnable to run command: ['processing-java', '--sketch=/tmp/tmpc9d2vhif', '--build', '--force', '--output=/tmp/tmpl1l5n67a']\n",
      "\u001b[0m"
     ]
    }
   ],
   "source": [
    "/* @pjs includeTable=\"true\"; */\n",
    "\n",
    "Table table;\n",
    "\n",
    "void setup() {\n",
    "    table = loadTable(\"test.csv\", \"header\");\n",
    "    println(table.getRowCount() + \" total rows in table\"); \n",
    "    println(findMax() + \" max population\");\n",
    "}\n",
    "\n",
    "long findMax() {\n",
    "    int retval = 0;\n",
    "    for (TableRow row : table.rows()) {\n",
    "        int pop = row.getInt(\"Population\");\n",
    "        if (pop > retval)\n",
    "            retval = pop;\n",
    "    }\n",
    "    return retval;\n",
    "}"
   ]
  },
  {
   "cell_type": "code",
   "execution_count": null,
   "metadata": {},
   "outputs": [],
   "source": []
  }
 ],
 "metadata": {
  "kernelspec": {
   "display_name": "Calysto Processing",
   "language": "java",
   "name": "calysto_processing"
  },
  "language_info": {
   "codemirror_mode": {
    "name": "text/x-java",
    "version": 2
   },
   "file_extension": ".java",
   "mimetype": "text/x-java",
   "name": "java"
  }
 },
 "nbformat": 4,
 "nbformat_minor": 2
}
